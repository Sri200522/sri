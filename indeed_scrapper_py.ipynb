{
  "cells": [
    {
      "cell_type": "markdown",
      "metadata": {
        "id": "view-in-github",
        "colab_type": "text"
      },
      "source": [
        "<a href=\"https://colab.research.google.com/github/Sri200522/sri/blob/main/indeed_scrapper_py.ipynb\" target=\"_parent\"><img src=\"https://colab.research.google.com/assets/colab-badge.svg\" alt=\"Open In Colab\"/></a>"
      ]
    },
    {
      "cell_type": "code",
      "execution_count": null,
      "metadata": {
        "colab": {
          "base_uri": "https://localhost:8080/",
          "height": 1000
        },
        "id": "BYOx9jEkG0Hx",
        "outputId": "0f91748a-8594-4f79-97cf-1f0dbe237172"
      },
      "outputs": [
        {
          "name": "stdout",
          "output_type": "stream",
          "text": [
            "Collecting Apify\n",
            "  Downloading apify-2.0.2-py3-none-any.whl.metadata (8.7 kB)\n",
            "Collecting apify-client>=1.8.1 (from Apify)\n",
            "  Downloading apify_client-1.8.1-py3-none-any.whl.metadata (4.3 kB)\n",
            "Collecting apify-shared>=1.1.2 (from Apify)\n",
            "  Downloading apify_shared-1.1.2-py3-none-any.whl.metadata (2.5 kB)\n",
            "Collecting crawlee>=0.3.9 (from Apify)\n",
            "  Downloading crawlee-0.4.3-py3-none-any.whl.metadata (12 kB)\n",
            "Requirement already satisfied: cryptography>=42.0.0 in /usr/local/lib/python3.10/dist-packages (from Apify) (43.0.3)\n",
            "Requirement already satisfied: httpx>=0.27.0 in /usr/local/lib/python3.10/dist-packages (from Apify) (0.27.2)\n",
            "Collecting lazy-object-proxy>=1.10.0 (from Apify)\n",
            "  Downloading lazy_object_proxy-1.10.0-cp310-cp310-manylinux_2_5_x86_64.manylinux1_x86_64.manylinux_2_17_x86_64.manylinux2014_x86_64.whl.metadata (7.8 kB)\n",
            "Requirement already satisfied: typing-extensions>=4.1.0 in /usr/local/lib/python3.10/dist-packages (from Apify) (4.12.2)\n",
            "Collecting websockets<14.0.0,>=10.0 (from Apify)\n",
            "  Downloading websockets-13.1-cp310-cp310-manylinux_2_5_x86_64.manylinux1_x86_64.manylinux_2_17_x86_64.manylinux2014_x86_64.whl.metadata (6.8 kB)\n",
            "Requirement already satisfied: more_itertools>=10.0.0 in /usr/local/lib/python3.10/dist-packages (from apify-client>=1.8.1->Apify) (10.5.0)\n",
            "Collecting colorama>=0.4.0 (from crawlee>=0.3.9->Apify)\n",
            "  Downloading colorama-0.4.6-py2.py3-none-any.whl.metadata (17 kB)\n",
            "Collecting cookiecutter>=2.6.0 (from crawlee>=0.3.9->Apify)\n",
            "  Downloading cookiecutter-2.6.0-py3-none-any.whl.metadata (7.3 kB)\n",
            "Requirement already satisfied: docutils>=0.21.0 in /usr/local/lib/python3.10/dist-packages (from crawlee>=0.3.9->Apify) (0.21.2)\n",
            "Requirement already satisfied: eval-type-backport>=0.2.0 in /usr/local/lib/python3.10/dist-packages (from crawlee>=0.3.9->Apify) (0.2.0)\n",
            "Collecting inquirer>=3.3.0 (from crawlee>=0.3.9->Apify)\n",
            "  Downloading inquirer-3.4.0-py3-none-any.whl.metadata (6.8 kB)\n",
            "Collecting psutil>=6.0.0 (from crawlee>=0.3.9->Apify)\n",
            "  Downloading psutil-6.1.0-cp36-abi3-manylinux_2_12_x86_64.manylinux2010_x86_64.manylinux_2_17_x86_64.manylinux2014_x86_64.whl.metadata (22 kB)\n",
            "Requirement already satisfied: pydantic<2.10.0,>=2.6.0 in /usr/local/lib/python3.10/dist-packages (from crawlee>=0.3.9->Apify) (2.9.2)\n",
            "Collecting pydantic-settings>=2.2.0 (from crawlee>=0.3.9->Apify)\n",
            "  Downloading pydantic_settings-2.6.1-py3-none-any.whl.metadata (3.5 kB)\n",
            "Collecting pyee>=9.0.0 (from crawlee>=0.3.9->Apify)\n",
            "  Downloading pyee-12.1.1-py3-none-any.whl.metadata (2.9 kB)\n",
            "Collecting python-dateutil>=2.9.0 (from crawlee>=0.3.9->Apify)\n",
            "  Downloading python_dateutil-2.9.0.post0-py2.py3-none-any.whl.metadata (8.4 kB)\n",
            "Collecting sortedcollections>=2.1.0 (from crawlee>=0.3.9->Apify)\n",
            "  Downloading sortedcollections-2.1.0-py3-none-any.whl.metadata (4.8 kB)\n",
            "Collecting tldextract>=5.1.0 (from crawlee>=0.3.9->Apify)\n",
            "  Downloading tldextract-5.1.3-py3-none-any.whl.metadata (11 kB)\n",
            "Requirement already satisfied: typer>=0.12.0 in /usr/local/lib/python3.10/dist-packages (from crawlee>=0.3.9->Apify) (0.13.0)\n",
            "Requirement already satisfied: cffi>=1.12 in /usr/local/lib/python3.10/dist-packages (from cryptography>=42.0.0->Apify) (1.17.1)\n",
            "Requirement already satisfied: anyio in /usr/local/lib/python3.10/dist-packages (from httpx>=0.27.0->Apify) (3.7.1)\n",
            "Requirement already satisfied: certifi in /usr/local/lib/python3.10/dist-packages (from httpx>=0.27.0->Apify) (2024.8.30)\n",
            "Requirement already satisfied: httpcore==1.* in /usr/local/lib/python3.10/dist-packages (from httpx>=0.27.0->Apify) (1.0.7)\n",
            "Requirement already satisfied: idna in /usr/local/lib/python3.10/dist-packages (from httpx>=0.27.0->Apify) (3.10)\n",
            "Requirement already satisfied: sniffio in /usr/local/lib/python3.10/dist-packages (from httpx>=0.27.0->Apify) (1.3.1)\n",
            "Requirement already satisfied: h11<0.15,>=0.13 in /usr/local/lib/python3.10/dist-packages (from httpcore==1.*->httpx>=0.27.0->Apify) (0.14.0)\n",
            "Requirement already satisfied: pycparser in /usr/local/lib/python3.10/dist-packages (from cffi>=1.12->cryptography>=42.0.0->Apify) (2.22)\n",
            "Collecting binaryornot>=0.4.4 (from cookiecutter>=2.6.0->crawlee>=0.3.9->Apify)\n",
            "  Downloading binaryornot-0.4.4-py2.py3-none-any.whl.metadata (6.0 kB)\n",
            "Requirement already satisfied: Jinja2<4.0.0,>=2.7 in /usr/local/lib/python3.10/dist-packages (from cookiecutter>=2.6.0->crawlee>=0.3.9->Apify) (3.1.4)\n",
            "Requirement already satisfied: click<9.0.0,>=7.0 in /usr/local/lib/python3.10/dist-packages (from cookiecutter>=2.6.0->crawlee>=0.3.9->Apify) (8.1.7)\n",
            "Requirement already satisfied: pyyaml>=5.3.1 in /usr/local/lib/python3.10/dist-packages (from cookiecutter>=2.6.0->crawlee>=0.3.9->Apify) (6.0.2)\n",
            "Requirement already satisfied: python-slugify>=4.0.0 in /usr/local/lib/python3.10/dist-packages (from cookiecutter>=2.6.0->crawlee>=0.3.9->Apify) (8.0.4)\n",
            "Requirement already satisfied: requests>=2.23.0 in /usr/local/lib/python3.10/dist-packages (from cookiecutter>=2.6.0->crawlee>=0.3.9->Apify) (2.32.3)\n",
            "Collecting arrow (from cookiecutter>=2.6.0->crawlee>=0.3.9->Apify)\n",
            "  Downloading arrow-1.3.0-py3-none-any.whl.metadata (7.5 kB)\n",
            "Requirement already satisfied: rich in /usr/local/lib/python3.10/dist-packages (from cookiecutter>=2.6.0->crawlee>=0.3.9->Apify) (13.9.4)\n",
            "Collecting brotli (from httpx[brotli,http2]>=0.27.0->crawlee>=0.3.9->Apify)\n",
            "  Downloading Brotli-1.1.0-cp310-cp310-manylinux_2_5_x86_64.manylinux1_x86_64.manylinux_2_12_x86_64.manylinux2010_x86_64.whl.metadata (5.5 kB)\n",
            "Collecting h2<5,>=3 (from httpx[brotli,http2]>=0.27.0->crawlee>=0.3.9->Apify)\n",
            "  Downloading h2-4.1.0-py3-none-any.whl.metadata (3.6 kB)\n",
            "Collecting blessed>=1.19.0 (from inquirer>=3.3.0->crawlee>=0.3.9->Apify)\n",
            "  Downloading blessed-1.20.0-py2.py3-none-any.whl.metadata (13 kB)\n",
            "Collecting editor>=1.6.0 (from inquirer>=3.3.0->crawlee>=0.3.9->Apify)\n",
            "  Downloading editor-1.6.6-py3-none-any.whl.metadata (2.3 kB)\n",
            "Collecting readchar>=4.2.0 (from inquirer>=3.3.0->crawlee>=0.3.9->Apify)\n",
            "  Downloading readchar-4.2.1-py3-none-any.whl.metadata (7.5 kB)\n",
            "Requirement already satisfied: annotated-types>=0.6.0 in /usr/local/lib/python3.10/dist-packages (from pydantic<2.10.0,>=2.6.0->crawlee>=0.3.9->Apify) (0.7.0)\n",
            "Requirement already satisfied: pydantic-core==2.23.4 in /usr/local/lib/python3.10/dist-packages (from pydantic<2.10.0,>=2.6.0->crawlee>=0.3.9->Apify) (2.23.4)\n",
            "Collecting python-dotenv>=0.21.0 (from pydantic-settings>=2.2.0->crawlee>=0.3.9->Apify)\n",
            "  Downloading python_dotenv-1.0.1-py3-none-any.whl.metadata (23 kB)\n",
            "Requirement already satisfied: six>=1.5 in /usr/local/lib/python3.10/dist-packages (from python-dateutil>=2.9.0->crawlee>=0.3.9->Apify) (1.16.0)\n",
            "Collecting sortedcontainers (from sortedcollections>=2.1.0->crawlee>=0.3.9->Apify)\n",
            "  Downloading sortedcontainers-2.4.0-py2.py3-none-any.whl.metadata (10 kB)\n",
            "Collecting requests-file>=1.4 (from tldextract>=5.1.0->crawlee>=0.3.9->Apify)\n",
            "  Downloading requests_file-2.1.0-py2.py3-none-any.whl.metadata (1.7 kB)\n",
            "Requirement already satisfied: filelock>=3.0.8 in /usr/local/lib/python3.10/dist-packages (from tldextract>=5.1.0->crawlee>=0.3.9->Apify) (3.16.1)\n",
            "Requirement already satisfied: shellingham>=1.3.0 in /usr/local/lib/python3.10/dist-packages (from typer>=0.12.0->crawlee>=0.3.9->Apify) (1.5.4)\n",
            "Requirement already satisfied: exceptiongroup in /usr/local/lib/python3.10/dist-packages (from anyio->httpx>=0.27.0->Apify) (1.2.2)\n",
            "Requirement already satisfied: chardet>=3.0.2 in /usr/local/lib/python3.10/dist-packages (from binaryornot>=0.4.4->cookiecutter>=2.6.0->crawlee>=0.3.9->Apify) (5.2.0)\n",
            "Requirement already satisfied: wcwidth>=0.1.4 in /usr/local/lib/python3.10/dist-packages (from blessed>=1.19.0->inquirer>=3.3.0->crawlee>=0.3.9->Apify) (0.2.13)\n",
            "Collecting runs (from editor>=1.6.0->inquirer>=3.3.0->crawlee>=0.3.9->Apify)\n",
            "  Downloading runs-1.2.2-py3-none-any.whl.metadata (10 kB)\n",
            "Collecting xmod (from editor>=1.6.0->inquirer>=3.3.0->crawlee>=0.3.9->Apify)\n",
            "  Downloading xmod-1.8.1-py3-none-any.whl.metadata (1.8 kB)\n",
            "Collecting hyperframe<7,>=6.0 (from h2<5,>=3->httpx[brotli,http2]>=0.27.0->crawlee>=0.3.9->Apify)\n",
            "  Downloading hyperframe-6.0.1-py3-none-any.whl.metadata (2.7 kB)\n",
            "Collecting hpack<5,>=4.0 (from h2<5,>=3->httpx[brotli,http2]>=0.27.0->crawlee>=0.3.9->Apify)\n",
            "  Downloading hpack-4.0.0-py3-none-any.whl.metadata (2.5 kB)\n",
            "Requirement already satisfied: MarkupSafe>=2.0 in /usr/local/lib/python3.10/dist-packages (from Jinja2<4.0.0,>=2.7->cookiecutter>=2.6.0->crawlee>=0.3.9->Apify) (3.0.2)\n",
            "Requirement already satisfied: text-unidecode>=1.3 in /usr/local/lib/python3.10/dist-packages (from python-slugify>=4.0.0->cookiecutter>=2.6.0->crawlee>=0.3.9->Apify) (1.3)\n",
            "Requirement already satisfied: charset-normalizer<4,>=2 in /usr/local/lib/python3.10/dist-packages (from requests>=2.23.0->cookiecutter>=2.6.0->crawlee>=0.3.9->Apify) (3.4.0)\n",
            "Requirement already satisfied: urllib3<3,>=1.21.1 in /usr/local/lib/python3.10/dist-packages (from requests>=2.23.0->cookiecutter>=2.6.0->crawlee>=0.3.9->Apify) (2.2.3)\n",
            "Requirement already satisfied: markdown-it-py>=2.2.0 in /usr/local/lib/python3.10/dist-packages (from rich->cookiecutter>=2.6.0->crawlee>=0.3.9->Apify) (3.0.0)\n",
            "Requirement already satisfied: pygments<3.0.0,>=2.13.0 in /usr/local/lib/python3.10/dist-packages (from rich->cookiecutter>=2.6.0->crawlee>=0.3.9->Apify) (2.18.0)\n",
            "Collecting types-python-dateutil>=2.8.10 (from arrow->cookiecutter>=2.6.0->crawlee>=0.3.9->Apify)\n",
            "  Downloading types_python_dateutil-2.9.0.20241003-py3-none-any.whl.metadata (1.9 kB)\n",
            "Requirement already satisfied: mdurl~=0.1 in /usr/local/lib/python3.10/dist-packages (from markdown-it-py>=2.2.0->rich->cookiecutter>=2.6.0->crawlee>=0.3.9->Apify) (0.1.2)\n",
            "Downloading apify-2.0.2-py3-none-any.whl (47 kB)\n",
            "\u001b[2K   \u001b[90m━━━━━━━━━━━━━━━━━━━━━━━━━━━━━━━━━━━━━━━━\u001b[0m \u001b[32m47.6/47.6 kB\u001b[0m \u001b[31m3.4 MB/s\u001b[0m eta \u001b[36m0:00:00\u001b[0m\n",
            "\u001b[?25hDownloading apify_client-1.8.1-py3-none-any.whl (73 kB)\n",
            "\u001b[2K   \u001b[90m━━━━━━━━━━━━━━━━━━━━━━━━━━━━━━━━━━━━━━━━\u001b[0m \u001b[32m73.5/73.5 kB\u001b[0m \u001b[31m6.2 MB/s\u001b[0m eta \u001b[36m0:00:00\u001b[0m\n",
            "\u001b[?25hDownloading apify_shared-1.1.2-py3-none-any.whl (12 kB)\n",
            "Downloading crawlee-0.4.3-py3-none-any.whl (183 kB)\n",
            "\u001b[2K   \u001b[90m━━━━━━━━━━━━━━━━━━━━━━━━━━━━━━━━━━━━━━━━\u001b[0m \u001b[32m184.0/184.0 kB\u001b[0m \u001b[31m8.5 MB/s\u001b[0m eta \u001b[36m0:00:00\u001b[0m\n",
            "\u001b[?25hDownloading lazy_object_proxy-1.10.0-cp310-cp310-manylinux_2_5_x86_64.manylinux1_x86_64.manylinux_2_17_x86_64.manylinux2014_x86_64.whl (68 kB)\n",
            "\u001b[2K   \u001b[90m━━━━━━━━━━━━━━━━━━━━━━━━━━━━━━━━━━━━━━━━\u001b[0m \u001b[32m68.3/68.3 kB\u001b[0m \u001b[31m5.9 MB/s\u001b[0m eta \u001b[36m0:00:00\u001b[0m\n",
            "\u001b[?25hDownloading websockets-13.1-cp310-cp310-manylinux_2_5_x86_64.manylinux1_x86_64.manylinux_2_17_x86_64.manylinux2014_x86_64.whl (164 kB)\n",
            "\u001b[2K   \u001b[90m━━━━━━━━━━━━━━━━━━━━━━━━━━━━━━━━━━━━━━━━\u001b[0m \u001b[32m164.1/164.1 kB\u001b[0m \u001b[31m14.3 MB/s\u001b[0m eta \u001b[36m0:00:00\u001b[0m\n",
            "\u001b[?25hDownloading colorama-0.4.6-py2.py3-none-any.whl (25 kB)\n",
            "Downloading cookiecutter-2.6.0-py3-none-any.whl (39 kB)\n",
            "Downloading inquirer-3.4.0-py3-none-any.whl (18 kB)\n",
            "Downloading psutil-6.1.0-cp36-abi3-manylinux_2_12_x86_64.manylinux2010_x86_64.manylinux_2_17_x86_64.manylinux2014_x86_64.whl (287 kB)\n",
            "\u001b[2K   \u001b[90m━━━━━━━━━━━━━━━━━━━━━━━━━━━━━━━━━━━━━━━━\u001b[0m \u001b[32m287.3/287.3 kB\u001b[0m \u001b[31m20.1 MB/s\u001b[0m eta \u001b[36m0:00:00\u001b[0m\n",
            "\u001b[?25hDownloading pydantic_settings-2.6.1-py3-none-any.whl (28 kB)\n",
            "Downloading pyee-12.1.1-py3-none-any.whl (15 kB)\n",
            "Downloading python_dateutil-2.9.0.post0-py2.py3-none-any.whl (229 kB)\n",
            "\u001b[2K   \u001b[90m━━━━━━━━━━━━━━━━━━━━━━━━━━━━━━━━━━━━━━━━\u001b[0m \u001b[32m229.9/229.9 kB\u001b[0m \u001b[31m17.7 MB/s\u001b[0m eta \u001b[36m0:00:00\u001b[0m\n",
            "\u001b[?25hDownloading sortedcollections-2.1.0-py3-none-any.whl (9.5 kB)\n",
            "Downloading tldextract-5.1.3-py3-none-any.whl (104 kB)\n",
            "\u001b[2K   \u001b[90m━━━━━━━━━━━━━━━━━━━━━━━━━━━━━━━━━━━━━━━━\u001b[0m \u001b[32m104.9/104.9 kB\u001b[0m \u001b[31m8.6 MB/s\u001b[0m eta \u001b[36m0:00:00\u001b[0m\n",
            "\u001b[?25hDownloading binaryornot-0.4.4-py2.py3-none-any.whl (9.0 kB)\n",
            "Downloading blessed-1.20.0-py2.py3-none-any.whl (58 kB)\n",
            "\u001b[2K   \u001b[90m━━━━━━━━━━━━━━━━━━━━━━━━━━━━━━━━━━━━━━━━\u001b[0m \u001b[32m58.4/58.4 kB\u001b[0m \u001b[31m4.8 MB/s\u001b[0m eta \u001b[36m0:00:00\u001b[0m\n",
            "\u001b[?25hDownloading editor-1.6.6-py3-none-any.whl (4.0 kB)\n",
            "Downloading h2-4.1.0-py3-none-any.whl (57 kB)\n",
            "\u001b[2K   \u001b[90m━━━━━━━━━━━━━━━━━━━━━━━━━━━━━━━━━━━━━━━━\u001b[0m \u001b[32m57.5/57.5 kB\u001b[0m \u001b[31m4.6 MB/s\u001b[0m eta \u001b[36m0:00:00\u001b[0m\n",
            "\u001b[?25hDownloading python_dotenv-1.0.1-py3-none-any.whl (19 kB)\n",
            "Downloading readchar-4.2.1-py3-none-any.whl (9.3 kB)\n",
            "Downloading requests_file-2.1.0-py2.py3-none-any.whl (4.2 kB)\n",
            "Downloading arrow-1.3.0-py3-none-any.whl (66 kB)\n",
            "\u001b[2K   \u001b[90m━━━━━━━━━━━━━━━━━━━━━━━━━━━━━━━━━━━━━━━━\u001b[0m \u001b[32m66.4/66.4 kB\u001b[0m \u001b[31m5.6 MB/s\u001b[0m eta \u001b[36m0:00:00\u001b[0m\n",
            "\u001b[?25hDownloading Brotli-1.1.0-cp310-cp310-manylinux_2_5_x86_64.manylinux1_x86_64.manylinux_2_12_x86_64.manylinux2010_x86_64.whl (3.0 MB)\n",
            "\u001b[2K   \u001b[90m━━━━━━━━━━━━━━━━━━━━━━━━━━━━━━━━━━━━━━━━\u001b[0m \u001b[32m3.0/3.0 MB\u001b[0m \u001b[31m77.8 MB/s\u001b[0m eta \u001b[36m0:00:00\u001b[0m\n",
            "\u001b[?25hDownloading sortedcontainers-2.4.0-py2.py3-none-any.whl (29 kB)\n",
            "Downloading hpack-4.0.0-py3-none-any.whl (32 kB)\n",
            "Downloading hyperframe-6.0.1-py3-none-any.whl (12 kB)\n",
            "Downloading types_python_dateutil-2.9.0.20241003-py3-none-any.whl (9.7 kB)\n",
            "Downloading runs-1.2.2-py3-none-any.whl (7.0 kB)\n",
            "Downloading xmod-1.8.1-py3-none-any.whl (4.6 kB)\n",
            "Installing collected packages: sortedcontainers, brotli, xmod, websockets, types-python-dateutil, sortedcollections, readchar, python-dotenv, python-dateutil, pyee, psutil, lazy-object-proxy, hyperframe, hpack, colorama, blessed, binaryornot, apify-shared, runs, requests-file, h2, arrow, tldextract, pydantic-settings, editor, cookiecutter, apify-client, inquirer, crawlee, Apify\n",
            "  Attempting uninstall: python-dateutil\n",
            "    Found existing installation: python-dateutil 2.8.2\n",
            "    Uninstalling python-dateutil-2.8.2:\n",
            "      Successfully uninstalled python-dateutil-2.8.2\n",
            "  Attempting uninstall: psutil\n",
            "    Found existing installation: psutil 5.9.5\n",
            "    Uninstalling psutil-5.9.5:\n",
            "      Successfully uninstalled psutil-5.9.5\n",
            "Successfully installed Apify-2.0.2 apify-client-1.8.1 apify-shared-1.1.2 arrow-1.3.0 binaryornot-0.4.4 blessed-1.20.0 brotli-1.1.0 colorama-0.4.6 cookiecutter-2.6.0 crawlee-0.4.3 editor-1.6.6 h2-4.1.0 hpack-4.0.0 hyperframe-6.0.1 inquirer-3.4.0 lazy-object-proxy-1.10.0 psutil-6.1.0 pydantic-settings-2.6.1 pyee-12.1.1 python-dateutil-2.9.0.post0 python-dotenv-1.0.1 readchar-4.2.1 requests-file-2.1.0 runs-1.2.2 sortedcollections-2.1.0 sortedcontainers-2.4.0 tldextract-5.1.3 types-python-dateutil-2.9.0.20241003 websockets-13.1 xmod-1.8.1\n"
          ]
        },
        {
          "data": {
            "application/vnd.colab-display-data+json": {
              "id": "18c10198ae3d4150bb566c6a6af7b4cc",
              "pip_warning": {
                "packages": [
                  "dateutil",
                  "psutil"
                ]
              }
            }
          },
          "metadata": {},
          "output_type": "display_data"
        },
        {
          "name": "stdout",
          "output_type": "stream",
          "text": [
            "Requirement already satisfied: pandas in /usr/local/lib/python3.10/dist-packages (2.2.2)\n",
            "Requirement already satisfied: numpy>=1.22.4 in /usr/local/lib/python3.10/dist-packages (from pandas) (1.26.4)\n",
            "Requirement already satisfied: python-dateutil>=2.8.2 in /usr/local/lib/python3.10/dist-packages (from pandas) (2.9.0.post0)\n",
            "Requirement already satisfied: pytz>=2020.1 in /usr/local/lib/python3.10/dist-packages (from pandas) (2024.2)\n",
            "Requirement already satisfied: tzdata>=2022.7 in /usr/local/lib/python3.10/dist-packages (from pandas) (2024.2)\n",
            "Requirement already satisfied: six>=1.5 in /usr/local/lib/python3.10/dist-packages (from python-dateutil>=2.8.2->pandas) (1.16.0)\n"
          ]
        }
      ],
      "source": [
        "!pip install Apify\n",
        "!pip install pandas"
      ]
    },
    {
      "cell_type": "code",
      "execution_count": null,
      "metadata": {
        "colab": {
          "background_save": true
        },
        "id": "OdzmFbb4PFcw",
        "outputId": "b43d7090-aa74-4c01-aee8-7678747840a5"
      },
      "outputs": [
        {
          "name": "stdout",
          "output_type": "stream",
          "text": [
            "Results saved to apify_results.xlsx\n"
          ]
        }
      ],
      "source": [
        "from apify_client import ApifyClient\n",
        "import pandas as pd\n",
        "\n",
        "# Initialize the ApifyClient with your API token\n",
        "client = ApifyClient(\"apify_api_kI4JCkeJI6ph0hJcitXgUCF9I8D7hD1AuZRt\")\n",
        "\n",
        "# Prepare the Actor input\n",
        "run_input = {\n",
        "    \"position\": \"web developer\",\n",
        "    \"country\": \"US\",\n",
        "    \"location\": \"San Francisco\",\n",
        "    \"maxItems\": 50,\n",
        "    \"parseCompanyDetails\": False,\n",
        "    \"saveOnlyUniqueItems\": True,\n",
        "    \"followApplyRedirects\": False,\n",
        "}\n",
        "\n",
        "# Run the Actor and wait for it to finish\n",
        "run = client.actor(\"hMvNSpz3JnHgl5jkh\").call(run_input=run_input)\n",
        "\n",
        "# Fetch Actor results and save them into a list\n",
        "results = [item for item in client.dataset(run[\"defaultDatasetId\"]).iterate_items()]\n",
        "\n",
        "# Convert results to a DataFrame\n",
        "df = pd.DataFrame(results)\n",
        "\n",
        "# Save DataFrame to an Excel file\n",
        "df.to_excel(\"apify_results.xlsx\", index=False)\n",
        "\n",
        "print(\"Results saved to apify_results.xlsx\")"
      ]
    }
  ],
  "metadata": {
    "colab": {
      "toc_visible": true,
      "provenance": [],
      "authorship_tag": "ABX9TyOpj375zpWgiW/0fr2GdQKS",
      "include_colab_link": true
    },
    "kernelspec": {
      "display_name": "Python 3",
      "name": "python3"
    },
    "language_info": {
      "name": "python"
    }
  },
  "nbformat": 4,
  "nbformat_minor": 0
}